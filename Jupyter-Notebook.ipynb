{
 "cells": [
  {
   "cell_type": "markdown",
   "metadata": {},
   "source": [
    "Okay, to start off I need to import pandas, the \"import pandas as pd lets me us pd as shorthand when I call on pandas"
   ]
  },
  {
   "cell_type": "code",
   "execution_count": 3,
   "metadata": {},
   "outputs": [],
   "source": [
    "import pandas as pd\n"
   ]
  },
  {
   "cell_type": "markdown",
   "metadata": {},
   "source": [
    "Next I add in my datasets. I'll start with just 1 set, and print the begining of the dataset to make sure its reading correctly"
   ]
  },
  {
   "cell_type": "code",
   "execution_count": 4,
   "metadata": {},
   "outputs": [],
   "source": [
    "calendar = pd.read_csv('Datasets\\calendar.csv')\n",
    "print(calendar.shape)\n",
    "calendar.head(5)"
   ]
  },
  {
   "cell_type": "markdown",
   "metadata": {},
   "source": [
    "Now the other datasets"
   ]
  },
  {
   "cell_type": "code",
   "execution_count": 7,
   "metadata": {},
   "outputs": [],
   "source": [
    "normal_sales = pd.read_csv('Datasets/MOCK_BAR_DATA_NO_POPUP.csv')\n",
    "halloween = pd.read_csv('Datasets/MOCK_BAR_DATA_HALLOWEEN.csv')\n",
    "holiday = pd.read_csv('Datasets/MOCK_BAR_DATA_SSPOPUP.csv')"
   ]
  },
  {
   "cell_type": "markdown",
   "metadata": {},
   "source": [
    "I've seperated the mock sales into 3 sets for the sake of making the mock data easier to read. The holiday popups are generally much different than the rest of the year so I created different guidelines for the mock data for those. It also provides the opportunity to start with halloween event to show the concept on a smaller scale."
   ]
  },
  {
   "cell_type": "code",
   "execution_count": 9,
   "metadata": {},
   "outputs": [
    {
     "name": "stdout",
     "output_type": "stream",
     "text": [
      "         date  holiday drink 1  holiday drink 2  holiday drink 3  \\\n",
      "0  10/24/2023                2                6                4   \n",
      "1  10/25/2023                2               10               15   \n",
      "2  10/26/2023               10                5               11   \n",
      "3  10/27/2023                8               10                2   \n",
      "4  10/28/2023               18               14               12   \n",
      "5  10/29/2023                6                2                9   \n",
      "6  10/31/2023               13               14                3   \n",
      "\n",
      "   holiday drink 4  holiday drink 5  holiday shot  holiday bowl  draft beer  \\\n",
      "0                7                2             5           4.0         5.0   \n",
      "1                3                5             4           NaN         NaN   \n",
      "2                3                9             2           NaN         7.0   \n",
      "3                6                3             1           3.0         7.0   \n",
      "4               15               14            14           5.0        12.0   \n",
      "5                7                1             1           3.0        14.0   \n",
      "6                7                8             3           4.0         7.0   \n",
      "\n",
      "   can beer  \n",
      "0       NaN  \n",
      "1       NaN  \n",
      "2       5.0  \n",
      "3       NaN  \n",
      "4       NaN  \n",
      "5       NaN  \n",
      "6       NaN  \n"
     ]
    }
   ],
   "source": [
    "print (halloween.head (7))"
   ]
  }
 ],
 "metadata": {
  "kernelspec": {
   "display_name": "Python 3",
   "language": "python",
   "name": "python3"
  },
  "language_info": {
   "codemirror_mode": {
    "name": "ipython",
    "version": 3
   },
   "file_extension": ".py",
   "mimetype": "text/x-python",
   "name": "python",
   "nbconvert_exporter": "python",
   "pygments_lexer": "ipython3",
   "version": "3.11.4"
  }
 },
 "nbformat": 4,
 "nbformat_minor": 2
}
