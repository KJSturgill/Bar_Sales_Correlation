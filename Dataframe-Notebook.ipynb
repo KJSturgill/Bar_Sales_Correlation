{
 "cells": [
  {
   "cell_type": "markdown",
   "metadata": {},
   "source": [
    "Okay, to start off I need to import pandas, the \"import pandas as pd\" lets me us pd as shorthand when I call on pandas"
   ]
  },
  {
   "cell_type": "code",
   "execution_count": null,
   "metadata": {},
   "outputs": [],
   "source": [
    "import pandas as pd\n"
   ]
  },
  {
   "cell_type": "markdown",
   "metadata": {},
   "source": [
    "Next I add in my datasets. I'll start with just 1 set, the calendar, and print the begining of the dataset to make sure its reading correctly"
   ]
  },
  {
   "cell_type": "code",
   "execution_count": null,
   "metadata": {},
   "outputs": [],
   "source": [
    "calendar = pd.read_csv('Datasets\\calendar.csv')\n",
    "print(calendar.shape)\n",
    "calendar.head(5)"
   ]
  },
  {
   "cell_type": "markdown",
   "metadata": {},
   "source": [
    "(The NaN means not a number, just any spot left empty for no drinks sold)\n",
    "\n",
    "Now the other datasets"
   ]
  },
  {
   "cell_type": "code",
   "execution_count": null,
   "metadata": {},
   "outputs": [],
   "source": [
    "normal_sales = pd.read_csv('Datasets/MOCK_BAR_DATA.csv')\n",
    "halloween_popup = pd.read_csv('Datasets/MOCK_BAR_DATA_HALLOWEEN.csv')"
   ]
  },
  {
   "cell_type": "markdown",
   "metadata": {},
   "source": [
    "I've seperated the mock sales into 2 sets for the sake of making this project easier to understand, by using the week of the halloween popup as a shortened small scale example before I break apart the rest of the year. (I actually used more than a year, from Nov 1,2022 through Dec 31,2023) "
   ]
  },
  {
   "cell_type": "code",
   "execution_count": null,
   "metadata": {},
   "outputs": [],
   "source": [
    "halloween_popup"
   ]
  },
  {
   "cell_type": "markdown",
   "metadata": {},
   "source": [
    "Now to combine the calendar to the datasets to set up my correlations."
   ]
  },
  {
   "cell_type": "code",
   "execution_count": null,
   "metadata": {},
   "outputs": [],
   "source": [
    "halloween = pd.merge(halloween_popup, calendar, how='left', left_on='date', right_on='date')\n",
    "sales = pd.merge(normal_sales, calendar, how='left', left_on='date', right_on='date')"
   ]
  },
  {
   "cell_type": "markdown",
   "metadata": {},
   "source": [
    "And again I will check that they were combined right, using Halloween as an example. (I'll use the head() syntax to keep it short enough for the notebook for the example)"
   ]
  },
  {
   "cell_type": "code",
   "execution_count": null,
   "metadata": {},
   "outputs": [],
   "source": [
    "halloween.head (3)"
   ]
  },
  {
   "cell_type": "markdown",
   "metadata": {},
   "source": [
    "With the example shoing it combined the Halloween sales with the calendar, we can see some data columns aren't necissary for every set we are correlating. This set is the easiest to see which ones we need, as its only really looking at the effects of a single holiday popup. So I can drop the sport, last_of_the_month, and popup columns. The lst of the month column refers to something all year round, and I don't need to track sports during a popup, and I already know it's a popup.\n",
    "\n",
    "I also will remove the NaN to make it a little easier to read."
   ]
  },
  {
   "cell_type": "code",
   "execution_count": null,
   "metadata": {},
   "outputs": [],
   "source": [
    "halloween = halloween.drop(columns=['last_of_the_month', 'popup', 'sport'])\n",
    "halloween = halloween.fillna(' ')\n",
    "halloween"
   ]
  },
  {
   "cell_type": "markdown",
   "metadata": {},
   "source": [
    "Even without a graph, you can see some details in these sales that point towards some of the correlations I'm looking for. Earlier in the week, there arent many bowl drinks ordered. Emo night is the only night during the popup anyone ordered canned beer, mostly cheap beers to go with shots. (I chose to simplify draft and canned beer, as this fake data is based off a cocktail bar that doesnt sell much beer). The saturday night of the halloween party had higher sales than the rest of the week. compared to teh rest of the year, theres a much higher ammount of draft sales the week of halloween because the bar partnered with a brewery to make candy themed beers that got more attention from the people who drink there."
   ]
  },
  {
   "cell_type": "markdown",
   "metadata": {},
   "source": [
    "For the full year of sales, I'll  seperate the data into multiple dataframes to check if the correlations I'm expecting are there. Then I will save those dataframes into their own csv's to make graphs, because the patterns wont stand out as much with a dataframe with 350 rows of numbers. since the full calendar has the popups as well, it has columns for the holiday drinks like halloween does, as well as the columns for the regular menu, so for some of these datasets I will rumove the collums for the holiday drinks if they arent necissary for the correlations."
   ]
  },
  {
   "cell_type": "markdown",
   "metadata": {},
   "source": [
    "Let's start with Emo dj nights, which happen on Thursdays"
   ]
  },
  {
   "cell_type": "code",
   "execution_count": null,
   "metadata": {},
   "outputs": [],
   "source": [
    "emo_night = sales[sales.event == 'Emo']\n",
    "emo_night = emo_night.drop(columns=['last_of_the_month','sport','event','holiday_drink_1','holiday_drink_2','holiday_drink_3','holiday_drink_4','holiday_drink_5','holiday_bowl','holiday','day'])\n",
    "emo_night = emo_night.fillna(' ')\n",
    "print(emo_night)"
   ]
  },
  {
   "cell_type": "code",
   "execution_count": null,
   "metadata": {},
   "outputs": [],
   "source": [
    "emo_sales = sales.fillna(\" \")[['date','event','tequila','draft','domestic','holiday_shot']][sales.day == 'thursday']\n",
    "emo_sales.head(30)"
   ]
  },
  {
   "cell_type": "markdown",
   "metadata": {},
   "source": [
    "Compare that to some none emo nights, and you'll see a lot of domestic beers you dont normally see in sales, as well as more holiday shots, (and since I combined all drinks of each spirit for the sake of the mock data generator, you also seee higher numbers under tequila, whihc is the most common shot chosen in town)"
   ]
  },
  {
   "cell_type": "markdown",
   "metadata": {},
   "source": [
    "Now to save that dataframe as a csv for the graph"
   ]
  },
  {
   "cell_type": "code",
   "execution_count": null,
   "metadata": {},
   "outputs": [],
   "source": [
    "emo_sales.to_csv('Dataframes/emo_sales.csv')"
   ]
  },
  {
   "cell_type": "markdown",
   "metadata": {},
   "source": [
    "Next I'll do our DJ, he has his own following who come out every time he has a set at the bar, once a month."
   ]
  },
  {
   "cell_type": "code",
   "execution_count": null,
   "metadata": {},
   "outputs": [],
   "source": [
    "dj_friday = sales[sales.event == 'DJ']\n",
    "dj_friday = dj_friday.drop(columns=['last_of_the_month','sport','event','holiday_drink_1','holiday_drink_2','holiday_drink_3','holiday_drink_4','holiday_drink_5','holiday_bowl','holiday_shot','holiday','day'])\n",
    "dj_friday = dj_friday.fillna(' ')\n",
    "print(dj_friday)"
   ]
  },
  {
   "cell_type": "code",
   "execution_count": null,
   "metadata": {},
   "outputs": [],
   "source": [
    "dj_sales = sales.fillna(\" \")[['date','event','painkiller','maitai','tequila','vodka', 'bourbon']][sales.day == 'friday']\n",
    "dj_sales = dj_sales.drop([25,31,37,46,323,329,335,341,345])\n",
    "#that is to drop the holiday fridays, just to keep collumns down to a more reasonable number\n",
    "dj_sales.head(30)"
   ]
  },
  {
   "cell_type": "markdown",
   "metadata": {},
   "source": [
    "The mock data actually fits perfect for this correlation, in that it shows no correlation. Our DJ has a following and draws a crowd every month, but that crowd doesnt have any particular type of drink they trend towards more. DJ fridays have about the same drink distribution that any friday would have. Sometimes there isnt a correlation and thats okay. For that reason I will leave out the comparison of kareoke nights, as theres no visable correlation, atleast with the mock data, between kareoke and types of drink. But this data is helpful to the project. Knowing the correlation between whats happneing and what drinks sell is important for ordering supplies, and knowing that these 2 events dont stray much from the average of drinks lets us know to order the average ammount."
   ]
  },
  {
   "cell_type": "markdown",
   "metadata": {},
   "source": [
    "Now to save that to a csv"
   ]
  },
  {
   "cell_type": "code",
   "execution_count": null,
   "metadata": {},
   "outputs": [],
   "source": [
    "dj_sales.to_csv('Dataframes/dj_sales.csv')"
   ]
  },
  {
   "cell_type": "markdown",
   "metadata": {},
   "source": [
    "Next, on to sports. The mock callendar is shortened to just one local sport, soccer. For the purposes of the mock data, its the assumption that theres only one stadium close to the bar, only a few block walk."
   ]
  },
  {
   "cell_type": "code",
   "execution_count": null,
   "metadata": {},
   "outputs": [],
   "source": [
    "sport = sales[sales.sport == 'soccer']\n",
    "sport = sport.drop(columns=['last_of_the_month','sport','event','holiday_drink_1','holiday_drink_2','holiday_drink_3','holiday_drink_4','holiday_drink_5','holiday_bowl','holiday_shot','holiday','popup'])\n",
    "sport = sport.fillna(' ')\n",
    "print(sport)"
   ]
  },
  {
   "cell_type": "markdown",
   "metadata": {},
   "source": [
    "A pattern is immediatly noticable to me after seeing a lot of the data so I will shorten the ammount of columns and add in more Saturdays to make it more apparent. I also will cut Wednesdays as theres only 3 on the game schedule, and they dont show much change in the pattern"
   ]
  },
  {
   "cell_type": "code",
   "execution_count": null,
   "metadata": {},
   "outputs": [],
   "source": [
    "soccer_sales = sales.fillna(\" \")[['date','sport','painkiller','maitai','domestic','draft']][sales.day == 'saturday']\n",
    "print(soccer_sales)"
   ]
  },
  {
   "cell_type": "markdown",
   "metadata": {},
   "source": [
    "That pattern I saw is that soccer fans drink more beer than our average customer. To a pretty significant degree, atlease at a bar that rarely sells beer."
   ]
  },
  {
   "cell_type": "markdown",
   "metadata": {},
   "source": [
    "save that to a csv"
   ]
  },
  {
   "cell_type": "code",
   "execution_count": null,
   "metadata": {},
   "outputs": [],
   "source": [
    "soccer_sales.to_csv('Dataframes/soccer_sales.csv')"
   ]
  },
  {
   "cell_type": "markdown",
   "metadata": {},
   "source": [
    "The last comparison Im going to do is less correlation, and more just to show how drastically different the holiday popup is to normal sales."
   ]
  },
  {
   "cell_type": "code",
   "execution_count": null,
   "metadata": {},
   "outputs": [],
   "source": [
    "popup = sales[sales.popup == 'Holiday']\n",
    "popup = popup.truncate(before=323)\n",
    "#I used truncate instead of drop here, because I was removing everything before a point, whereas above I needed to remove specific days dispersed in the middle of days I still needed\n",
    "popup = popup.drop(columns=['last_of_the_month','sport','event','holiday','popup','day','painkiller','maitai','tequila','vodka','rum','gin','bourbon'])\n",
    "popup = popup.fillna(' ')\n",
    "popup"
   ]
  },
  {
   "cell_type": "code",
   "execution_count": null,
   "metadata": {},
   "outputs": [],
   "source": [
    "no_popup = sales.drop(columns=['last_of_the_month','sport','event','holiday_drink_1','holiday_drink_2','holiday_drink_3','holiday_drink_4','holiday_drink_5','holiday_bowl','holiday_shot','holiday','popup','day'])\n",
    "no_popup = no_popup.truncate(before=48,after=72)\n",
    "no_popup = no_popup.fillna(' ')\n",
    "no_popup"
   ]
  },
  {
   "cell_type": "markdown",
   "metadata": {},
   "source": [
    "you can see the numbers are drastically higher during a month of the holiday popup, and lower during a month without the popup"
   ]
  },
  {
   "cell_type": "markdown",
   "metadata": {},
   "source": [
    "save both as csv's"
   ]
  },
  {
   "cell_type": "code",
   "execution_count": null,
   "metadata": {},
   "outputs": [],
   "source": [
    "popup.to_csv('Dataframes/popup.csv')\n",
    "no_popup.to_csv('Dataframes/no_popup.csv')"
   ]
  }
 ],
 "metadata": {
  "kernelspec": {
   "display_name": "Python 3",
   "language": "python",
   "name": "python3"
  },
  "language_info": {
   "codemirror_mode": {
    "name": "ipython",
    "version": 3
   },
   "file_extension": ".py",
   "mimetype": "text/x-python",
   "name": "python",
   "nbconvert_exporter": "python",
   "pygments_lexer": "ipython3",
   "version": "3.11.4"
  }
 },
 "nbformat": 4,
 "nbformat_minor": 2
}
